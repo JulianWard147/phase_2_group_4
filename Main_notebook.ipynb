{
 "cells": [
  {
   "cell_type": "code",
   "execution_count": 1,
   "metadata": {},
   "outputs": [],
   "source": [
    "#Importing modules, tools, etc.\n",
    "import pandas as pd\n",
    "import numpy as np\n",
    "import matplotlib.pyplot as plt\n",
    "import seaborn as sns\n",
    "import scipy.stats as stats\n",
    "from statsmodels.formula.api import ols\n",
    "\n",
    "#importing main dataframe as df\n",
    "df = pd.read_csv('data/kc_house_data.csv')"
   ]
  },
  {
   "cell_type": "code",
   "execution_count": 2,
   "metadata": {},
   "outputs": [
    {
     "data": {
      "text/html": [
       "<div>\n",
       "<style scoped>\n",
       "    .dataframe tbody tr th:only-of-type {\n",
       "        vertical-align: middle;\n",
       "    }\n",
       "\n",
       "    .dataframe tbody tr th {\n",
       "        vertical-align: top;\n",
       "    }\n",
       "\n",
       "    .dataframe thead th {\n",
       "        text-align: right;\n",
       "    }\n",
       "</style>\n",
       "<table border=\"1\" class=\"dataframe\">\n",
       "  <thead>\n",
       "    <tr style=\"text-align: right;\">\n",
       "      <th></th>\n",
       "      <th>id</th>\n",
       "      <th>date</th>\n",
       "      <th>price</th>\n",
       "      <th>bedrooms</th>\n",
       "      <th>bathrooms</th>\n",
       "      <th>sqft_living</th>\n",
       "      <th>sqft_lot</th>\n",
       "      <th>floors</th>\n",
       "      <th>waterfront</th>\n",
       "      <th>view</th>\n",
       "      <th>...</th>\n",
       "      <th>sqft_above</th>\n",
       "      <th>sqft_basement</th>\n",
       "      <th>yr_built</th>\n",
       "      <th>yr_renovated</th>\n",
       "      <th>zipcode</th>\n",
       "      <th>lat</th>\n",
       "      <th>long</th>\n",
       "      <th>sqft_living15</th>\n",
       "      <th>sqft_lot15</th>\n",
       "      <th>grade_num</th>\n",
       "    </tr>\n",
       "  </thead>\n",
       "  <tbody>\n",
       "    <tr>\n",
       "      <th>0</th>\n",
       "      <td>7129300520</td>\n",
       "      <td>10/13/2014</td>\n",
       "      <td>221900.0</td>\n",
       "      <td>3</td>\n",
       "      <td>1.00</td>\n",
       "      <td>1180</td>\n",
       "      <td>5650</td>\n",
       "      <td>1.0</td>\n",
       "      <td>NaN</td>\n",
       "      <td>NONE</td>\n",
       "      <td>...</td>\n",
       "      <td>1180</td>\n",
       "      <td>0.0</td>\n",
       "      <td>1955</td>\n",
       "      <td>0.0</td>\n",
       "      <td>98178</td>\n",
       "      <td>47.5112</td>\n",
       "      <td>-122.257</td>\n",
       "      <td>1340</td>\n",
       "      <td>5650</td>\n",
       "      <td>7</td>\n",
       "    </tr>\n",
       "    <tr>\n",
       "      <th>1</th>\n",
       "      <td>6414100192</td>\n",
       "      <td>12/9/2014</td>\n",
       "      <td>538000.0</td>\n",
       "      <td>3</td>\n",
       "      <td>2.25</td>\n",
       "      <td>2570</td>\n",
       "      <td>7242</td>\n",
       "      <td>2.0</td>\n",
       "      <td>NO</td>\n",
       "      <td>NONE</td>\n",
       "      <td>...</td>\n",
       "      <td>2170</td>\n",
       "      <td>400.0</td>\n",
       "      <td>1951</td>\n",
       "      <td>1991.0</td>\n",
       "      <td>98125</td>\n",
       "      <td>47.7210</td>\n",
       "      <td>-122.319</td>\n",
       "      <td>1690</td>\n",
       "      <td>7639</td>\n",
       "      <td>7</td>\n",
       "    </tr>\n",
       "    <tr>\n",
       "      <th>2</th>\n",
       "      <td>5631500400</td>\n",
       "      <td>2/25/2015</td>\n",
       "      <td>180000.0</td>\n",
       "      <td>2</td>\n",
       "      <td>1.00</td>\n",
       "      <td>770</td>\n",
       "      <td>10000</td>\n",
       "      <td>1.0</td>\n",
       "      <td>NO</td>\n",
       "      <td>NONE</td>\n",
       "      <td>...</td>\n",
       "      <td>770</td>\n",
       "      <td>0.0</td>\n",
       "      <td>1933</td>\n",
       "      <td>NaN</td>\n",
       "      <td>98028</td>\n",
       "      <td>47.7379</td>\n",
       "      <td>-122.233</td>\n",
       "      <td>2720</td>\n",
       "      <td>8062</td>\n",
       "      <td>6</td>\n",
       "    </tr>\n",
       "    <tr>\n",
       "      <th>3</th>\n",
       "      <td>2487200875</td>\n",
       "      <td>12/9/2014</td>\n",
       "      <td>604000.0</td>\n",
       "      <td>4</td>\n",
       "      <td>3.00</td>\n",
       "      <td>1960</td>\n",
       "      <td>5000</td>\n",
       "      <td>1.0</td>\n",
       "      <td>NO</td>\n",
       "      <td>NONE</td>\n",
       "      <td>...</td>\n",
       "      <td>1050</td>\n",
       "      <td>910.0</td>\n",
       "      <td>1965</td>\n",
       "      <td>0.0</td>\n",
       "      <td>98136</td>\n",
       "      <td>47.5208</td>\n",
       "      <td>-122.393</td>\n",
       "      <td>1360</td>\n",
       "      <td>5000</td>\n",
       "      <td>7</td>\n",
       "    </tr>\n",
       "    <tr>\n",
       "      <th>4</th>\n",
       "      <td>1954400510</td>\n",
       "      <td>2/18/2015</td>\n",
       "      <td>510000.0</td>\n",
       "      <td>3</td>\n",
       "      <td>2.00</td>\n",
       "      <td>1680</td>\n",
       "      <td>8080</td>\n",
       "      <td>1.0</td>\n",
       "      <td>NO</td>\n",
       "      <td>NONE</td>\n",
       "      <td>...</td>\n",
       "      <td>1680</td>\n",
       "      <td>0.0</td>\n",
       "      <td>1987</td>\n",
       "      <td>0.0</td>\n",
       "      <td>98074</td>\n",
       "      <td>47.6168</td>\n",
       "      <td>-122.045</td>\n",
       "      <td>1800</td>\n",
       "      <td>7503</td>\n",
       "      <td>8</td>\n",
       "    </tr>\n",
       "    <tr>\n",
       "      <th>...</th>\n",
       "      <td>...</td>\n",
       "      <td>...</td>\n",
       "      <td>...</td>\n",
       "      <td>...</td>\n",
       "      <td>...</td>\n",
       "      <td>...</td>\n",
       "      <td>...</td>\n",
       "      <td>...</td>\n",
       "      <td>...</td>\n",
       "      <td>...</td>\n",
       "      <td>...</td>\n",
       "      <td>...</td>\n",
       "      <td>...</td>\n",
       "      <td>...</td>\n",
       "      <td>...</td>\n",
       "      <td>...</td>\n",
       "      <td>...</td>\n",
       "      <td>...</td>\n",
       "      <td>...</td>\n",
       "      <td>...</td>\n",
       "      <td>...</td>\n",
       "    </tr>\n",
       "    <tr>\n",
       "      <th>21592</th>\n",
       "      <td>263000018</td>\n",
       "      <td>5/21/2014</td>\n",
       "      <td>360000.0</td>\n",
       "      <td>3</td>\n",
       "      <td>2.50</td>\n",
       "      <td>1530</td>\n",
       "      <td>1131</td>\n",
       "      <td>3.0</td>\n",
       "      <td>NO</td>\n",
       "      <td>NONE</td>\n",
       "      <td>...</td>\n",
       "      <td>1530</td>\n",
       "      <td>0.0</td>\n",
       "      <td>2009</td>\n",
       "      <td>0.0</td>\n",
       "      <td>98103</td>\n",
       "      <td>47.6993</td>\n",
       "      <td>-122.346</td>\n",
       "      <td>1530</td>\n",
       "      <td>1509</td>\n",
       "      <td>8</td>\n",
       "    </tr>\n",
       "    <tr>\n",
       "      <th>21593</th>\n",
       "      <td>6600060120</td>\n",
       "      <td>2/23/2015</td>\n",
       "      <td>400000.0</td>\n",
       "      <td>4</td>\n",
       "      <td>2.50</td>\n",
       "      <td>2310</td>\n",
       "      <td>5813</td>\n",
       "      <td>2.0</td>\n",
       "      <td>NO</td>\n",
       "      <td>NONE</td>\n",
       "      <td>...</td>\n",
       "      <td>2310</td>\n",
       "      <td>0.0</td>\n",
       "      <td>2014</td>\n",
       "      <td>0.0</td>\n",
       "      <td>98146</td>\n",
       "      <td>47.5107</td>\n",
       "      <td>-122.362</td>\n",
       "      <td>1830</td>\n",
       "      <td>7200</td>\n",
       "      <td>8</td>\n",
       "    </tr>\n",
       "    <tr>\n",
       "      <th>21594</th>\n",
       "      <td>1523300141</td>\n",
       "      <td>6/23/2014</td>\n",
       "      <td>402101.0</td>\n",
       "      <td>2</td>\n",
       "      <td>0.75</td>\n",
       "      <td>1020</td>\n",
       "      <td>1350</td>\n",
       "      <td>2.0</td>\n",
       "      <td>NO</td>\n",
       "      <td>NONE</td>\n",
       "      <td>...</td>\n",
       "      <td>1020</td>\n",
       "      <td>0.0</td>\n",
       "      <td>2009</td>\n",
       "      <td>0.0</td>\n",
       "      <td>98144</td>\n",
       "      <td>47.5944</td>\n",
       "      <td>-122.299</td>\n",
       "      <td>1020</td>\n",
       "      <td>2007</td>\n",
       "      <td>7</td>\n",
       "    </tr>\n",
       "    <tr>\n",
       "      <th>21595</th>\n",
       "      <td>291310100</td>\n",
       "      <td>1/16/2015</td>\n",
       "      <td>400000.0</td>\n",
       "      <td>3</td>\n",
       "      <td>2.50</td>\n",
       "      <td>1600</td>\n",
       "      <td>2388</td>\n",
       "      <td>2.0</td>\n",
       "      <td>NaN</td>\n",
       "      <td>NONE</td>\n",
       "      <td>...</td>\n",
       "      <td>1600</td>\n",
       "      <td>0.0</td>\n",
       "      <td>2004</td>\n",
       "      <td>0.0</td>\n",
       "      <td>98027</td>\n",
       "      <td>47.5345</td>\n",
       "      <td>-122.069</td>\n",
       "      <td>1410</td>\n",
       "      <td>1287</td>\n",
       "      <td>8</td>\n",
       "    </tr>\n",
       "    <tr>\n",
       "      <th>21596</th>\n",
       "      <td>1523300157</td>\n",
       "      <td>10/15/2014</td>\n",
       "      <td>325000.0</td>\n",
       "      <td>2</td>\n",
       "      <td>0.75</td>\n",
       "      <td>1020</td>\n",
       "      <td>1076</td>\n",
       "      <td>2.0</td>\n",
       "      <td>NO</td>\n",
       "      <td>NONE</td>\n",
       "      <td>...</td>\n",
       "      <td>1020</td>\n",
       "      <td>0.0</td>\n",
       "      <td>2008</td>\n",
       "      <td>0.0</td>\n",
       "      <td>98144</td>\n",
       "      <td>47.5941</td>\n",
       "      <td>-122.299</td>\n",
       "      <td>1020</td>\n",
       "      <td>1357</td>\n",
       "      <td>7</td>\n",
       "    </tr>\n",
       "  </tbody>\n",
       "</table>\n",
       "<p>21597 rows × 21 columns</p>\n",
       "</div>"
      ],
      "text/plain": [
       "               id        date     price  bedrooms  bathrooms  sqft_living  \\\n",
       "0      7129300520  10/13/2014  221900.0         3       1.00         1180   \n",
       "1      6414100192   12/9/2014  538000.0         3       2.25         2570   \n",
       "2      5631500400   2/25/2015  180000.0         2       1.00          770   \n",
       "3      2487200875   12/9/2014  604000.0         4       3.00         1960   \n",
       "4      1954400510   2/18/2015  510000.0         3       2.00         1680   \n",
       "...           ...         ...       ...       ...        ...          ...   \n",
       "21592   263000018   5/21/2014  360000.0         3       2.50         1530   \n",
       "21593  6600060120   2/23/2015  400000.0         4       2.50         2310   \n",
       "21594  1523300141   6/23/2014  402101.0         2       0.75         1020   \n",
       "21595   291310100   1/16/2015  400000.0         3       2.50         1600   \n",
       "21596  1523300157  10/15/2014  325000.0         2       0.75         1020   \n",
       "\n",
       "       sqft_lot  floors waterfront  view  ... sqft_above  sqft_basement  \\\n",
       "0          5650     1.0        NaN  NONE  ...       1180            0.0   \n",
       "1          7242     2.0         NO  NONE  ...       2170          400.0   \n",
       "2         10000     1.0         NO  NONE  ...        770            0.0   \n",
       "3          5000     1.0         NO  NONE  ...       1050          910.0   \n",
       "4          8080     1.0         NO  NONE  ...       1680            0.0   \n",
       "...         ...     ...        ...   ...  ...        ...            ...   \n",
       "21592      1131     3.0         NO  NONE  ...       1530            0.0   \n",
       "21593      5813     2.0         NO  NONE  ...       2310            0.0   \n",
       "21594      1350     2.0         NO  NONE  ...       1020            0.0   \n",
       "21595      2388     2.0        NaN  NONE  ...       1600            0.0   \n",
       "21596      1076     2.0         NO  NONE  ...       1020            0.0   \n",
       "\n",
       "      yr_built  yr_renovated  zipcode      lat     long  sqft_living15  \\\n",
       "0         1955           0.0    98178  47.5112 -122.257           1340   \n",
       "1         1951        1991.0    98125  47.7210 -122.319           1690   \n",
       "2         1933           NaN    98028  47.7379 -122.233           2720   \n",
       "3         1965           0.0    98136  47.5208 -122.393           1360   \n",
       "4         1987           0.0    98074  47.6168 -122.045           1800   \n",
       "...        ...           ...      ...      ...      ...            ...   \n",
       "21592     2009           0.0    98103  47.6993 -122.346           1530   \n",
       "21593     2014           0.0    98146  47.5107 -122.362           1830   \n",
       "21594     2009           0.0    98144  47.5944 -122.299           1020   \n",
       "21595     2004           0.0    98027  47.5345 -122.069           1410   \n",
       "21596     2008           0.0    98144  47.5941 -122.299           1020   \n",
       "\n",
       "       sqft_lot15  grade_num  \n",
       "0            5650          7  \n",
       "1            7639          7  \n",
       "2            8062          6  \n",
       "3            5000          7  \n",
       "4            7503          8  \n",
       "...           ...        ...  \n",
       "21592        1509          8  \n",
       "21593        7200          8  \n",
       "21594        2007          7  \n",
       "21595        1287          8  \n",
       "21596        1357          7  \n",
       "\n",
       "[21597 rows x 21 columns]"
      ]
     },
     "execution_count": 2,
     "metadata": {},
     "output_type": "execute_result"
    }
   ],
   "source": [
    "#Converting grade column to an int value\n",
    "\n",
    "#Create a dummy list\n",
    "grade_num = []\n",
    "\n",
    "#Go through each row, grabbing the first index off the string, conver to int\n",
    "for index, row in df.iterrows():\n",
    "    grade_num.append(int((str(row['grade'])[0:2])))\n",
    "\n",
    "#drop the old column and add the new\n",
    "df['grade_num'] = grade_num\n",
    "df.drop('grade', axis = 1)"
   ]
  },
  {
   "cell_type": "code",
   "execution_count": 3,
   "metadata": {},
   "outputs": [],
   "source": [
    "# Turning NaNs in the waterfront data into NO's, then converting waterfront to binary.\n",
    "# 0 is a waterfront no, 1 is a waterfront yes\n",
    "#\n",
    "\n",
    "df.waterfront.fillna(value='NO', inplace = True)\n",
    "df.waterfront.replace( to_replace = ['NO','YES'], value =  [0,1], inplace = True)"
   ]
  },
  {
   "cell_type": "code",
   "execution_count": 4,
   "metadata": {},
   "outputs": [
    {
     "name": "stdout",
     "output_type": "stream",
     "text": [
      "12764    13540\n",
      "7245     12050\n",
      "3910     10040\n",
      "9245      9890\n",
      "8085      9640\n",
      "         ...  \n",
      "11488      420\n",
      "8614       410\n",
      "21316      390\n",
      "860        380\n",
      "15367      370\n",
      "Name: sqft_living, Length: 21597, dtype: int64\n",
      "4980.0\n"
     ]
    },
    {
     "data": {
      "text/plain": [
       "<AxesSubplot:ylabel='Frequency'>"
      ]
     },
     "execution_count": 4,
     "metadata": {},
     "output_type": "execute_result"
    },
    {
     "data": {
      "image/png": "[encoded data removed]",
      "text/plain": [
       "<Figure size 432x288 with 1 Axes>"
      ]
     },
     "metadata": {
      "needs_background": "light"
     },
     "output_type": "display_data"
    }
   ],
   "source": [
    "print(df['sqft_living'].sort_values(ascending = False))\n",
    "#Those are some big results.\n",
    "print(df['sqft_living'].quantile(0.99))\n",
    "# even the 99 percentile is still sub 5000. \n",
    "df['sqft_living'].plot(kind = 'hist')\n",
    "#Plotting this shows a bit skew right.\n",
    "\n",
    "#It may be wise to shave the model off around there."
   ]
  },
  {
   "cell_type": "code",
   "execution_count": 5,
   "metadata": {},
   "outputs": [
    {
     "data": {
      "image/png": "[encoded data removed]",
      "text/plain": [
       "<Figure size 432x288 with 1 Axes>"
      ]
     },
     "metadata": {
      "needs_background": "light"
     },
     "output_type": "display_data"
    }
   ],
   "source": [
    "df.sqft_living.describe()\n",
    "df['sqft_living_ratio'] = df['sqft_living'] / df['sqft_living15']\n",
    "df.sqft_living_ratio.describe()\n",
    "\n",
    "df['sqft_living_ratio'] = df.sqft_living / df.sqft_living15\n",
    "df['sqft_living_ratio'] = df['sqft_living_ratio'].loc[(np.abs(stats.zscore(df.sqft_living_ratio)) < 2)]\n",
    "df = df.dropna(subset = ['sqft_living_ratio'])\n",
    "df.sqft_living_ratio.plot.hist();"
   ]
  },
  {
   "cell_type": "code",
   "execution_count": 6,
   "metadata": {},
   "outputs": [
    {
     "name": "stdout",
     "output_type": "stream",
     "text": [
      "1717     1651359\n",
      "17305    1164794\n",
      "7640     1074218\n",
      "3945      982998\n",
      "4437      982278\n",
      "          ...   \n",
      "21536        638\n",
      "20588        635\n",
      "3449         609\n",
      "7582         600\n",
      "5821         572\n",
      "Name: sqft_lot, Length: 20621, dtype: int64\n",
      "206478.8\n"
     ]
    },
    {
     "data": {
      "image/png": "[encoded data removed]",
      "text/plain": [
       "<Figure size 432x288 with 1 Axes>"
      ]
     },
     "metadata": {
      "needs_background": "light"
     },
     "output_type": "display_data"
    }
   ],
   "source": [
    "print(df['sqft_lot'].sort_values(ascending = False)) \n",
    "#Holy cow! I don't think those are residential sales.\n",
    "print(df['sqft_lot'].quantile(0.99))\n",
    "#99th quantile, still high, still well below those outliers\n",
    "\n",
    "df['sqft_lot'].plot(kind = 'hist');\n",
    "#Some weirdness at the far end"
   ]
  },
  {
   "cell_type": "code",
   "execution_count": 7,
   "metadata": {},
   "outputs": [
    {
     "data": {
      "image/png": "[encoded data removed]",
      "text/plain": [
       "<Figure size 432x288 with 1 Axes>"
      ]
     },
     "metadata": {
      "needs_background": "light"
     },
     "output_type": "display_data"
    }
   ],
   "source": [
    "df.sqft_lot15.describe()\n",
    "df['sqft_lot_ratio'] = df['sqft_lot'] / df['sqft_lot15']\n",
    "df.sqft_lot_ratio.describe()\n",
    "\n",
    "df['sqft_lot_ratio'] = df.sqft_lot / df.sqft_lot15\n",
    "df['sqft_lot_ratio'] = df['sqft_lot_ratio'].loc[(np.abs(stats.zscore(df.sqft_lot_ratio)) < 2)]\n",
    "df = df.dropna(subset = ['sqft_lot_ratio'])\n",
    "df.sqft_lot_ratio.plot.hist();"
   ]
  },
  {
   "cell_type": "code",
   "execution_count": 8,
   "metadata": {},
   "outputs": [],
   "source": [
    "df.bedrooms.value_counts()\n",
    "df = df[df['bedrooms'] < 33]"
   ]
  },
  {
   "cell_type": "code",
   "execution_count": 9,
   "metadata": {},
   "outputs": [],
   "source": [
    "df['view'] = df['view'].replace({'NONE': 0, 'AVERAGE': 1, 'GOOD': 2, 'FAIR': 3, 'EXCELLENT':4}).fillna(0)"
   ]
  },
  {
   "cell_type": "code",
   "execution_count": 10,
   "metadata": {},
   "outputs": [
    {
     "data": {
      "text/plain": [
       "1.0    10240\n",
       "2.0     7673\n",
       "1.5     1757\n",
       "3.0      575\n",
       "2.5      134\n",
       "3.5        6\n",
       "Name: floors, dtype: int64"
      ]
     },
     "execution_count": 10,
     "metadata": {},
     "output_type": "execute_result"
    }
   ],
   "source": [
    "df['floors'].value_counts()\n",
    "#Seems reasonable. Maybe make it categorical?"
   ]
  },
  {
   "cell_type": "code",
   "execution_count": 11,
   "metadata": {},
   "outputs": [
    {
     "data": {
      "image/png": "[encoded data removed]",
      "text/plain": [
       "<Figure size 432x288 with 1 Axes>"
      ]
     },
     "metadata": {
      "needs_background": "light"
     },
     "output_type": "display_data"
    }
   ],
   "source": [
    "#cleaning the square feet above ground data\n",
    "df['sqft_above'].sort_values(ascending = False) \n",
    "df['sqft_above'].quantile(.99)\n",
    "#Not quite as extreme as sqft_livable\n",
    "\n",
    "\n",
    "df['sqft_above'].plot(kind='hist');"
   ]
  },
  {
   "cell_type": "code",
   "execution_count": 12,
   "metadata": {},
   "outputs": [],
   "source": [
    "#cleaning the basement data\n",
    "df['sqft_basement'] = df['sqft_basement'].replace({'?': 0.0})\n",
    "df['sqft_basement'] = df['sqft_basement'].astype(float)"
   ]
  },
  {
   "cell_type": "code",
   "execution_count": 13,
   "metadata": {},
   "outputs": [],
   "source": [
    "from statsmodels.formula.api import ols\n",
    "#X = df[['bedrooms', 'bathrooms', 'sqft_living',\n",
    "#       'sqft_lot', 'floors', 'waterfront', 'view',\n",
    "#       'sqft_above', 'sqft_basement', 'yr_built', 'yr_renovated', 'zipcode','sqft_living15', 'sqft_lot15', 'grade_num']]\n",
    "#y = df.price"
   ]
  },
  {
   "cell_type": "code",
   "execution_count": 14,
   "metadata": {},
   "outputs": [
    {
     "data": {
      "image/png": "[encoded data removed]",
      "text/plain": [
       "<Figure size 1080x1296 with 2 Axes>"
      ]
     },
     "metadata": {
      "needs_background": "light"
     },
     "output_type": "display_data"
    }
   ],
   "source": [
    "import seaborn as sns\n",
    "import numpy as np\n",
    "\n",
    "corr = df.corr()\n",
    "fig, ax = plt.subplots(figsize=(15, 18))\n",
    "sns.heatmap(\n",
    "    # Specifies the data to be plotted\n",
    "    data=corr,\n",
    "    # The mask means we only show half the values,\n",
    "    # instead of showing duplicates. It's optional.\n",
    "    mask=np.triu(np.ones_like(corr, dtype=bool)),\n",
    "    # Specifies that we should use the existing axes\n",
    "    ax=ax,\n",
    "    # Specifies that we want labels, not just colors\n",
    "    annot=True,\n",
    "    # Customizes colorbar appearance\n",
    "    cbar_kws={\"label\": \"Correlation\", \"orientation\": \"horizontal\", \"pad\": .2, \"extend\": \"both\"}\n",
    ")\n",
    "\n",
    "# Customize the plot appearance\n",
    "ax.set_title(\"Heatmap of Correlation Between Attributes (Including Target)\");"
   ]
  },
  {
   "cell_type": "code",
   "execution_count": 15,
   "metadata": {},
   "outputs": [
    {
     "data": {
      "text/plain": [
       "array([[ 2.,  2.,  0.,  3.],\n",
       "       [ 2.,  7.,  2.,  3.],\n",
       "       [ 3., 10.,  0.,  3.],\n",
       "       ...,\n",
       "       [ 1.,  1.,  2.,  3.],\n",
       "       [ 2.,  8.,  2.,  4.],\n",
       "       [ 1.,  1.,  2.,  3.]])"
      ]
     },
     "execution_count": 15,
     "metadata": {},
     "output_type": "execute_result"
    }
   ],
   "source": [
    "from sklearn.preprocessing import OrdinalEncoder\n",
    "from sklearn.preprocessing import OneHotEncoder\n",
    "ohe = OneHotEncoder(sparse = False)\n",
    "ohe.fit_transform(df[['zipcode']])\n",
    "zip_encoded = ohe.fit_transform(df[['zipcode']])\n",
    "zip_enc_df = pd.DataFrame(zip_encoded, columns=ohe.categories_[0], index=df.index)\n",
    "df_original = pd.concat([df, zip_enc_df], axis=1)\n",
    "ziplist = ohe.categories_[0].tolist()\n",
    "zipliststr = []\n",
    "for i in ziplist: \n",
    "    zipliststr.append(str(i))\n",
    "zipliststr\n",
    "ord_enc = OrdinalEncoder()\n",
    "ord_enc.fit_transform(df[['bedrooms','bathrooms','floors','grade_num']])"
   ]
  },
  {
   "cell_type": "code",
   "execution_count": 16,
   "metadata": {},
   "outputs": [],
   "source": [
    "X = df_original.drop(columns = ['id','date','price','lat','long','sqft_living_ratio','sqft_lot_ratio','condition','yr_built','yr_renovated','grade','zipcode'])"
   ]
  },
  {
   "cell_type": "code",
   "execution_count": 17,
   "metadata": {},
   "outputs": [],
   "source": [
    "from sklearn.model_selection import train_test_split\n",
    "X_train, X_test, y_train, y_test = train_test_split(X,df.price)\n",
    "\n",
    "training_data = pd.concat([X_train,y_train], axis = 1)\n",
    "testing_data = pd.concat([X_test,y_test], axis = 1)"
   ]
  },
  {
   "cell_type": "code",
   "execution_count": 18,
   "metadata": {},
   "outputs": [],
   "source": [
    "from sklearn.linear_model import LinearRegression\n",
    "\n",
    "baseline_model = LinearRegression()"
   ]
  },
  {
   "cell_type": "code",
   "execution_count": 19,
   "metadata": {},
   "outputs": [
    {
     "name": "stdout",
     "output_type": "stream",
     "text": [
      "Baseline Train score:      0.463436143622177\n",
      "Baseline Validation score: 0.467468931850848\n"
     ]
    }
   ],
   "source": [
    "from sklearn.model_selection import cross_validate, ShuffleSplit\n",
    "\n",
    "splitter = ShuffleSplit(n_splits=3, test_size=0.25, random_state=0)\n",
    "\n",
    "baseline_scores = cross_validate(\n",
    "    estimator=baseline_model,\n",
    "    X=training_data[['sqft_living']],\n",
    "    y=training_data.price,\n",
    "    return_train_score=True,\n",
    "    cv=splitter\n",
    ")\n",
    "\n",
    "print(\"Baseline Train score:     \", baseline_scores[\"train_score\"].mean())\n",
    "print(\"Baseline Validation score:\", baseline_scores[\"test_score\"].mean())\n"
   ]
  },
  {
   "cell_type": "code",
   "execution_count": 20,
   "metadata": {},
   "outputs": [
    {
     "name": "stdout",
     "output_type": "stream",
     "text": [
      "Size Bedroom Bathroom Train score: 0.4789161590868205\n",
      "Size Bedroom Bathroom Test score:  0.4827372117909527\n"
     ]
    }
   ],
   "source": [
    "size_bed_bath = LinearRegression()\n",
    "\n",
    "baseline_scores = cross_validate(\n",
    "    estimator=baseline_model,\n",
    "    X=training_data[['sqft_living','bedrooms','bathrooms']],\n",
    "    y=training_data.price,\n",
    "    return_train_score=True,\n",
    "    cv=splitter\n",
    ")\n",
    "\n",
    "print(\"Size Bedroom Bathroom Train score:\", baseline_scores[\"train_score\"].mean())\n",
    "print(\"Size Bedroom Bathroom Test score: \", baseline_scores[\"test_score\"].mean())\n"
   ]
  },
  {
   "cell_type": "code",
   "execution_count": 21,
   "metadata": {},
   "outputs": [
    {
     "name": "stdout",
     "output_type": "stream",
     "text": [
      "Size Bedroom Bathroom Grade Train score: 0.5240040494167673\n",
      "Size Bedroom Bathroom Grade Test score:  0.5266350581839999\n"
     ]
    }
   ],
   "source": [
    "size_bed_bath_quality = LinearRegression()\n",
    "\n",
    "baseline_scores = cross_validate(\n",
    "    estimator=baseline_model,\n",
    "    X=training_data[['sqft_living','bedrooms','bathrooms','grade_num']],\n",
    "    y=training_data.price,\n",
    "    return_train_score=True,\n",
    "    cv=splitter\n",
    ")\n",
    "\n",
    "print(\"Size Bedroom Bathroom Grade Train score:\", baseline_scores[\"train_score\"].mean())\n",
    "print(\"Size Bedroom Bathroom Grade Test score: \", baseline_scores[\"test_score\"].mean())\n"
   ]
  },
  {
   "cell_type": "code",
   "execution_count": 22,
   "metadata": {},
   "outputs": [
    {
     "name": "stdout",
     "output_type": "stream",
     "text": [
      "Second Model Train score:      0.8174063054862236\n",
      "Second Model Validation score: 0.8034110228691361\n"
     ]
    }
   ],
   "source": [
    "second_model = LinearRegression()\n",
    "\n",
    "second_model_scores = cross_validate(\n",
    "    estimator=second_model,\n",
    "    X=training_data.drop(columns = 'price'),\n",
    "    y=y_train,\n",
    "    return_train_score=True,\n",
    "    cv=splitter\n",
    ")\n",
    "\n",
    "print(\"Second Model Train score:     \", second_model_scores[\"train_score\"].mean())\n",
    "print(\"Second Model Validation score:\", second_model_scores[\"test_score\"].mean())\n"
   ]
  },
  {
   "cell_type": "code",
   "execution_count": 23,
   "metadata": {},
   "outputs": [
    {
     "data": {
      "text/plain": [
       "RFECV(cv=ShuffleSplit(n_splits=3, random_state=0, test_size=0.25, train_size=None),\n",
       "      estimator=LinearRegression())"
      ]
     },
     "execution_count": 23,
     "metadata": {},
     "output_type": "execute_result"
    }
   ],
   "source": [
    "from sklearn.feature_selection import RFECV\n",
    "from sklearn.preprocessing import StandardScaler\n",
    "\n",
    "X_train_for_RFECV = StandardScaler().fit_transform(X_train)\n",
    "model_for_RFECV = LinearRegression()\n",
    "\n",
    "# Instantiate and fit the selector\n",
    "selector = RFECV(model_for_RFECV, cv=splitter)\n",
    "selector.fit(X_train_for_RFECV, y_train)"
   ]
  },
  {
   "cell_type": "code",
   "execution_count": 24,
   "metadata": {},
   "outputs": [
    {
     "name": "stdout",
     "output_type": "stream",
     "text": [
      "0.8143844178481962\n",
      "0.8102759376595998\n",
      "Train Root Mean Squarred Error: 141048.6173932114\n",
      "Test Root Mean Squarred Error: 147088.97417025844\n"
     ]
    }
   ],
   "source": [
    "from sklearn.linear_model import LinearRegression\n",
    "\n",
    "linreg = LinearRegression()\n",
    "linreg.fit(X_train,y_train)\n",
    "print(linreg.score(X_train, y_train))\n",
    "print(linreg.score(X_test, y_test))\n",
    "LinearRegression(copy_X=True, fit_intercept=True, n_jobs=None, normalize=False)\n",
    "\n",
    "y_hat_train = linreg.predict(X_train)\n",
    "y_hat_test = linreg.predict(X_test)\n",
    "\n",
    "from sklearn.metrics import mean_squared_error\n",
    "\n",
    "train_residuals = y_hat_train - y_train\n",
    "test_residuals = y_hat_test - y_test\n",
    "\n",
    "# Calculate training and test MSE\n",
    "\n",
    "train_mse = mean_squared_error(y_train, y_hat_train)\n",
    "test_mse = mean_squared_error(y_test, y_hat_test)\n",
    "print('Train Root Mean Squarred Error:', np.sqrt(train_mse))\n",
    "print('Test Root Mean Squarred Error:', np.sqrt(test_mse))"
   ]
  },
  {
   "cell_type": "code",
   "execution_count": 25,
   "metadata": {},
   "outputs": [],
   "source": [
    "final_train = ols('y_train ~ X_train', data = training_data).fit()\n",
    "#final_train.summary()"
   ]
  },
  {
   "cell_type": "code",
   "execution_count": 26,
   "metadata": {},
   "outputs": [],
   "source": [
    "final_test = ols('y_test ~ X_test', testing_data).fit()\n",
    "#final_test.summary()"
   ]
  },
  {
   "cell_type": "code",
   "execution_count": 27,
   "metadata": {},
   "outputs": [],
   "source": [
    "Seattle_zipcodes = [98101, 98102, 98103, 98104, 98105, \n",
    "                    98106, 98107, 98108, 98109, 98112, \n",
    "                    98115, 98116, 98117, 98118, 98119, \n",
    "                    98121, 98122, 98125, 98126, 98133, \n",
    "                    98134, 98136, 98144, 98146, 98154, \n",
    "                    98164, 98174, 98177, 98178, 98195, \n",
    "                    98199 ]\n",
    "\n",
    "df['in_Seattle'] = np.where(df['zipcode'].isin(Seattle_zipcodes),1,0)\n"
   ]
  },
  {
   "cell_type": "code",
   "execution_count": 28,
   "metadata": {},
   "outputs": [],
   "source": [
    "X = df.drop(columns = ['id','date','price','lat','long','sqft_living_ratio','sqft_lot_ratio','condition','yr_built','yr_renovated','grade','zipcode'])"
   ]
  },
  {
   "cell_type": "code",
   "execution_count": 29,
   "metadata": {},
   "outputs": [],
   "source": [
    "X_train, X_test, y_train, y_test = train_test_split(X,df.price)\n",
    "\n",
    "training_data = pd.concat([X_train,y_train], axis = 1)\n",
    "testing_data = pd.concat([X_test,y_test], axis = 1)"
   ]
  },
  {
   "cell_type": "code",
   "execution_count": 30,
   "metadata": {},
   "outputs": [
    {
     "name": "stdout",
     "output_type": "stream",
     "text": [
      "Baseline Train score:      0.46640319633006494\n",
      "Baseline Validation score: 0.4694910103151269\n"
     ]
    }
   ],
   "source": [
    "baseline_scores = cross_validate(\n",
    "    estimator=baseline_model,\n",
    "    X=training_data[['sqft_living']],\n",
    "    y=training_data.price,\n",
    "    return_train_score=True,\n",
    "    cv=splitter\n",
    ")\n",
    "\n",
    "print(\"Baseline Train score:     \", baseline_scores[\"train_score\"].mean())\n",
    "print(\"Baseline Validation score:\", baseline_scores[\"test_score\"].mean())"
   ]
  },
  {
   "cell_type": "code",
   "execution_count": 31,
   "metadata": {},
   "outputs": [
    {
     "name": "stdout",
     "output_type": "stream",
     "text": [
      "Size Bedroom Bathroom Train score: 0.4811445204006595\n",
      "Size Bedroom Bathroom Test score:  0.4830770446367441\n"
     ]
    }
   ],
   "source": [
    "size_bed_bath = LinearRegression()\n",
    "\n",
    "baseline_scores = cross_validate(\n",
    "    estimator=baseline_model,\n",
    "    X=training_data[['sqft_living','bedrooms','bathrooms']],\n",
    "    y=training_data.price,\n",
    "    return_train_score=True,\n",
    "    cv=splitter\n",
    ")\n",
    "\n",
    "print(\"Size Bedroom Bathroom Train score:\", baseline_scores[\"train_score\"].mean())\n",
    "print(\"Size Bedroom Bathroom Test score: \", baseline_scores[\"test_score\"].mean())"
   ]
  },
  {
   "cell_type": "code",
   "execution_count": 32,
   "metadata": {},
   "outputs": [
    {
     "name": "stdout",
     "output_type": "stream",
     "text": [
      "Size Bedroom Bathroom Grade Train score: 0.5241185791467358\n",
      "Size Bedroom Bathroom Grade Test score:  0.5265511450819009\n"
     ]
    }
   ],
   "source": [
    "size_bed_bath_quality = LinearRegression()\n",
    "\n",
    "baseline_scores = cross_validate(\n",
    "    estimator=baseline_model,\n",
    "    X=training_data[['sqft_living','bedrooms','bathrooms','grade_num']],\n",
    "    y=training_data.price,\n",
    "    return_train_score=True,\n",
    "    cv=splitter\n",
    ")\n",
    "\n",
    "print(\"Size Bedroom Bathroom Grade Train score:\", baseline_scores[\"train_score\"].mean())\n",
    "print(\"Size Bedroom Bathroom Grade Test score: \", baseline_scores[\"test_score\"].mean())\n"
   ]
  },
  {
   "cell_type": "code",
   "execution_count": 33,
   "metadata": {},
   "outputs": [
    {
     "name": "stdout",
     "output_type": "stream",
     "text": [
      "Second Model Train score:      0.6360269792232566\n",
      "Second Model Validation score: 0.6350173919992904\n"
     ]
    }
   ],
   "source": [
    "second_model = LinearRegression()\n",
    "\n",
    "second_model_scores = cross_validate(\n",
    "    estimator=second_model,\n",
    "    X=training_data.drop(columns = 'price'),\n",
    "    y=y_train,\n",
    "    return_train_score=True,\n",
    "    cv=splitter\n",
    ")\n",
    "\n",
    "print(\"Second Model Train score:     \", second_model_scores[\"train_score\"].mean())\n",
    "print(\"Second Model Validation score:\", second_model_scores[\"test_score\"].mean())"
   ]
  },
  {
   "cell_type": "code",
   "execution_count": 34,
   "metadata": {},
   "outputs": [
    {
     "name": "stdout",
     "output_type": "stream",
     "text": [
      "Columns Selected:\n",
      "bedrooms: True\n",
      "bathrooms: False\n",
      "sqft_living: True\n",
      "sqft_lot: False\n",
      "floors: True\n",
      "waterfront: True\n",
      "view: True\n",
      "sqft_above: True\n",
      "sqft_basement: True\n",
      "sqft_living15: True\n",
      "sqft_lot15: True\n",
      "grade_num: True\n",
      "in_Seattle: True\n"
     ]
    }
   ],
   "source": [
    "from sklearn.feature_selection import RFECV\n",
    "from sklearn.preprocessing import StandardScaler\n",
    "\n",
    "X_train_for_RFECV = StandardScaler().fit_transform(X_train)\n",
    "model_for_RFECV = LinearRegression()\n",
    "\n",
    "# Instantiate and fit the selector\n",
    "selector = RFECV(model_for_RFECV, cv=splitter)\n",
    "selector.fit(X_train_for_RFECV, y_train)\n",
    "\n",
    "print(\"Columns Selected:\")\n",
    "for index, col in enumerate(X_train.columns):\n",
    "    print(f\"{col}: {selector.support_[index]}\")\n"
   ]
  },
  {
   "cell_type": "code",
   "execution_count": null,
   "metadata": {},
   "outputs": [],
   "source": [
    "linreg = LinearRegression()\n",
    "linreg.fit(X_train,y_train)\n",
    "print(linreg.score(X_train, y_train))\n",
    "print(linreg.score(X_test, y_test))\n",
    "LinearRegression(copy_X=True, fit_intercept=True, n_jobs=None, normalize=False)\n",
    "\n",
    "y_hat_train = linreg.predict(X_train)\n",
    "y_hat_test = linreg.predict(X_test)\n",
    "\n",
    "from sklearn.metrics import mean_squared_error\n",
    "\n",
    "train_residuals = y_hat_train - y_train\n",
    "test_residuals = y_hat_test - y_test\n",
    "\n",
    "# Calculate training and test MSE\n",
    "\n",
    "train_mse = mean_squared_error(y_train, y_hat_train)\n",
    "test_mse = mean_squared_error(y_test, y_hat_test)\n",
    "print('Train Root Mean Squarred Error:', np.sqrt(train_mse))\n",
    "print('Test Root Mean Squarred Error:', np.sqrt(test_mse))"
   ]
  },
  {
   "cell_type": "code",
   "execution_count": 35,
   "metadata": {},
   "outputs": [
    {
     "data": {
      "text/html": [
       "<table class=\"simpletable\">\n",
       "<caption>OLS Regression Results</caption>\n",
       "<tr>\n",
       "  <th>Dep. Variable:</th>          <td>price</td>      <th>  R-squared:         </th>  <td>   0.636</td>  \n",
       "</tr>\n",
       "<tr>\n",
       "  <th>Model:</th>                   <td>OLS</td>       <th>  Adj. R-squared:    </th>  <td>   0.636</td>  \n",
       "</tr>\n",
       "<tr>\n",
       "  <th>Method:</th>             <td>Least Squares</td>  <th>  F-statistic:       </th>  <td>   2966.</td>  \n",
       "</tr>\n",
       "<tr>\n",
       "  <th>Date:</th>             <td>Wed, 17 Nov 2021</td> <th>  Prob (F-statistic):</th>   <td>  0.00</td>   \n",
       "</tr>\n",
       "<tr>\n",
       "  <th>Time:</th>                 <td>12:48:38</td>     <th>  Log-Likelihood:    </th> <td>-2.0804e+05</td>\n",
       "</tr>\n",
       "<tr>\n",
       "  <th>No. Observations:</th>      <td> 15288</td>      <th>  AIC:               </th>  <td>4.161e+05</td> \n",
       "</tr>\n",
       "<tr>\n",
       "  <th>Df Residuals:</th>          <td> 15278</td>      <th>  BIC:               </th>  <td>4.162e+05</td> \n",
       "</tr>\n",
       "<tr>\n",
       "  <th>Df Model:</th>              <td>     9</td>      <th>                     </th>      <td> </td>     \n",
       "</tr>\n",
       "<tr>\n",
       "  <th>Covariance Type:</th>      <td>nonrobust</td>    <th>                     </th>      <td> </td>     \n",
       "</tr>\n",
       "</table>\n",
       "<table class=\"simpletable\">\n",
       "<tr>\n",
       "           <td></td>             <th>coef</th>     <th>std err</th>      <th>t</th>      <th>P>|t|</th>  <th>[0.025</th>    <th>0.975]</th>  \n",
       "</tr>\n",
       "<tr>\n",
       "  <th>Intercept</th>          <td> -5.46e+05</td> <td> 1.49e+04</td> <td>  -36.581</td> <td> 0.000</td> <td>-5.75e+05</td> <td>-5.17e+05</td>\n",
       "</tr>\n",
       "<tr>\n",
       "  <th>C(waterfront)[T.1]</th> <td>  5.62e+05</td> <td>  2.3e+04</td> <td>   24.394</td> <td> 0.000</td> <td> 5.17e+05</td> <td> 6.07e+05</td>\n",
       "</tr>\n",
       "<tr>\n",
       "  <th>C(in_Seattle)[T.1]</th> <td> 1.751e+05</td> <td> 3667.650</td> <td>   47.734</td> <td> 0.000</td> <td> 1.68e+05</td> <td> 1.82e+05</td>\n",
       "</tr>\n",
       "<tr>\n",
       "  <th>bedrooms</th>           <td>-1.872e+04</td> <td> 2337.506</td> <td>   -8.007</td> <td> 0.000</td> <td>-2.33e+04</td> <td>-1.41e+04</td>\n",
       "</tr>\n",
       "<tr>\n",
       "  <th>sqft_living</th>        <td>  151.2397</td> <td>    4.252</td> <td>   35.567</td> <td> 0.000</td> <td>  142.905</td> <td>  159.575</td>\n",
       "</tr>\n",
       "<tr>\n",
       "  <th>floors</th>             <td>-4.438e+04</td> <td> 3359.919</td> <td>  -13.210</td> <td> 0.000</td> <td> -5.1e+04</td> <td>-3.78e+04</td>\n",
       "</tr>\n",
       "<tr>\n",
       "  <th>view</th>               <td> 5.445e+04</td> <td> 2728.441</td> <td>   19.955</td> <td> 0.000</td> <td> 4.91e+04</td> <td> 5.98e+04</td>\n",
       "</tr>\n",
       "<tr>\n",
       "  <th>sqft_living15</th>      <td>   87.4558</td> <td>    4.611</td> <td>   18.967</td> <td> 0.000</td> <td>   78.418</td> <td>   96.494</td>\n",
       "</tr>\n",
       "<tr>\n",
       "  <th>sqft_lot15</th>         <td>   -0.2269</td> <td>    0.066</td> <td>   -3.429</td> <td> 0.001</td> <td>   -0.357</td> <td>   -0.097</td>\n",
       "</tr>\n",
       "<tr>\n",
       "  <th>grade_num</th>          <td> 8.451e+04</td> <td> 2444.397</td> <td>   34.572</td> <td> 0.000</td> <td> 7.97e+04</td> <td> 8.93e+04</td>\n",
       "</tr>\n",
       "</table>\n",
       "<table class=\"simpletable\">\n",
       "<tr>\n",
       "  <th>Omnibus:</th>       <td>7948.309</td> <th>  Durbin-Watson:     </th>  <td>   2.015</td> \n",
       "</tr>\n",
       "<tr>\n",
       "  <th>Prob(Omnibus):</th>  <td> 0.000</td>  <th>  Jarque-Bera (JB):  </th> <td>126552.297</td>\n",
       "</tr>\n",
       "<tr>\n",
       "  <th>Skew:</th>           <td> 2.127</td>  <th>  Prob(JB):          </th>  <td>    0.00</td> \n",
       "</tr>\n",
       "<tr>\n",
       "  <th>Kurtosis:</th>       <td>16.438</td>  <th>  Cond. No.          </th>  <td>4.06e+05</td> \n",
       "</tr>\n",
       "</table><br/><br/>Notes:<br/>[1] Standard Errors assume that the covariance matrix of the errors is correctly specified.<br/>[2] The condition number is large, 4.06e+05. This might indicate that there are<br/>strong multicollinearity or other numerical problems."
      ],
      "text/plain": [
       "<class 'statsmodels.iolib.summary.Summary'>\n",
       "\"\"\"\n",
       "                            OLS Regression Results                            \n",
       "==============================================================================\n",
       "Dep. Variable:                  price   R-squared:                       0.636\n",
       "Model:                            OLS   Adj. R-squared:                  0.636\n",
       "Method:                 Least Squares   F-statistic:                     2966.\n",
       "Date:                Wed, 17 Nov 2021   Prob (F-statistic):               0.00\n",
       "Time:                        12:48:38   Log-Likelihood:            -2.0804e+05\n",
       "No. Observations:               15288   AIC:                         4.161e+05\n",
       "Df Residuals:                   15278   BIC:                         4.162e+05\n",
       "Df Model:                           9                                         \n",
       "Covariance Type:            nonrobust                                         \n",
       "======================================================================================\n",
       "                         coef    std err          t      P>|t|      [0.025      0.975]\n",
       "--------------------------------------------------------------------------------------\n",
       "Intercept           -5.46e+05   1.49e+04    -36.581      0.000   -5.75e+05   -5.17e+05\n",
       "C(waterfront)[T.1]   5.62e+05    2.3e+04     24.394      0.000    5.17e+05    6.07e+05\n",
       "C(in_Seattle)[T.1]  1.751e+05   3667.650     47.734      0.000    1.68e+05    1.82e+05\n",
       "bedrooms           -1.872e+04   2337.506     -8.007      0.000   -2.33e+04   -1.41e+04\n",
       "sqft_living          151.2397      4.252     35.567      0.000     142.905     159.575\n",
       "floors             -4.438e+04   3359.919    -13.210      0.000    -5.1e+04   -3.78e+04\n",
       "view                5.445e+04   2728.441     19.955      0.000    4.91e+04    5.98e+04\n",
       "sqft_living15         87.4558      4.611     18.967      0.000      78.418      96.494\n",
       "sqft_lot15            -0.2269      0.066     -3.429      0.001      -0.357      -0.097\n",
       "grade_num           8.451e+04   2444.397     34.572      0.000    7.97e+04    8.93e+04\n",
       "==============================================================================\n",
       "Omnibus:                     7948.309   Durbin-Watson:                   2.015\n",
       "Prob(Omnibus):                  0.000   Jarque-Bera (JB):           126552.297\n",
       "Skew:                           2.127   Prob(JB):                         0.00\n",
       "Kurtosis:                      16.438   Cond. No.                     4.06e+05\n",
       "==============================================================================\n",
       "\n",
       "Notes:\n",
       "[1] Standard Errors assume that the covariance matrix of the errors is correctly specified.\n",
       "[2] The condition number is large, 4.06e+05. This might indicate that there are\n",
       "strong multicollinearity or other numerical problems.\n",
       "\"\"\""
      ]
     },
     "execution_count": 35,
     "metadata": {},
     "output_type": "execute_result"
    }
   ],
   "source": [
    "ols('price ~ bedrooms + sqft_living + floors + C(waterfront)+ view + sqft_living15 + sqft_lot15 + grade_num + C(in_Seattle)', data = training_data).fit().summary()"
   ]
  },
  {
   "cell_type": "code",
   "execution_count": 36,
   "metadata": {},
   "outputs": [
    {
     "data": {
      "image/png": "[encoded data removed]",
      "text/plain": [
       "<Figure size 864x576 with 1 Axes>"
      ]
     },
     "metadata": {
      "needs_background": "light"
     },
     "output_type": "display_data"
    }
   ],
   "source": [
    "df['price_per_sqft'] = df['price'].div(df['sqft_living'])\n",
    "\n",
    "fig, ax = plt.subplots(figsize = (12,8))\n",
    "sns.histplot(ax=ax, data = df, x = 'price_per_sqft', hue = 'in_Seattle', binwidth = 25, alpha = .5)\n",
    "ax.set_xlabel('Price per Square Foot')\n",
    "ax.set_ylabel('Number of Homes')\n",
    "ax.set_title('Price of Housing in King County')\n",
    "ax.legend(['In Seattle','Outside Seattle']);"
   ]
  },
  {
   "cell_type": "code",
   "execution_count": null,
   "metadata": {},
   "outputs": [],
   "source": []
  }
 ],
 "metadata": {
  "kernelspec": {
   "display_name": "Python (learn-env)",
   "language": "python",
   "name": "learn-env"
  },
  "language_info": {
   "codemirror_mode": {
    "name": "ipython",
    "version": 3
   },
   "file_extension": ".py",
   "mimetype": "text/x-python",
   "name": "python",
   "nbconvert_exporter": "python",
   "pygments_lexer": "ipython3",
   "version": "3.8.5"
  }
 },
 "nbformat": 4,
 "nbformat_minor": 4
}
